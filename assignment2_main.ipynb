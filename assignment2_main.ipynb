{
 "cells": [
  {
   "cell_type": "code",
   "execution_count": 69,
   "id": "ee6b7d45f4e33777",
   "metadata": {
    "ExecuteTime": {
     "end_time": "2023-11-17T20:27:48.599297Z",
     "start_time": "2023-11-17T20:27:48.537166Z"
    }
   },
   "outputs": [],
   "source": [
    "import torch\n",
    "import torch.nn as nn"
   ]
  },
  {
   "cell_type": "code",
   "execution_count": 70,
   "outputs": [],
   "source": [
    "class ImageNN(torch.nn.Module):\n",
    "    def __init__(self):\n",
    "        super(ImageNN, self).__init__()\n",
    "        self.neural_network_graph = nn.Sequential(\n",
    "            nn.Flatten(),\n",
    "            nn.Linear(28 * 28, 500), # 28x28 = 784 pixels (Input layer)\n",
    "            nn.ReLU(), # ReLU activation function\n",
    "            nn.Linear(500, 350),\n",
    "            nn.Dropout(0.5),  # Dropout with a dropout rate of 0.5\n",
    "            nn.LayerNorm(350),\n",
    "            nn.ReLU(),\n",
    "            nn.Linear(350, 200),\n",
    "            nn.ReLU(),\n",
    "            nn.Linear(200, 10), # 10 classes (Output layer)\n",
    "        )\n",
    "\n",
    "    def forward(self, x):\n",
    "        return self.neural_network_graph(x)"
   ],
   "metadata": {
    "collapsed": false,
    "ExecuteTime": {
     "end_time": "2023-11-17T20:27:48.661969Z",
     "start_time": "2023-11-17T20:27:48.547651Z"
    }
   },
   "id": "504c3a93ff64dd50"
  },
  {
   "cell_type": "code",
   "execution_count": 71,
   "outputs": [],
   "source": [
    "import matplotlib.pyplot as plt\n",
    "\n",
    "def plot_metrics(train_losses_, val_losses_, train_accuracies_, val_accuracies_):\n",
    "    epochs_range = range(1, len(train_losses_) + 1)\n",
    "\n",
    "    plt.figure(figsize=(12, 5))\n",
    "    plt.subplot(1, 2, 1)\n",
    "    plt.plot(epochs_range, train_losses_, label='Training Loss')\n",
    "    plt.plot(epochs_range, val_losses_, label='Validation Loss')\n",
    "    plt.title('Training and Validation Loss')\n",
    "    plt.xlabel('Epochs')\n",
    "    plt.ylabel('Loss')\n",
    "    plt.legend()\n",
    "\n",
    "    plt.subplot(1, 2, 2)\n",
    "    plt.plot(epochs_range, train_accuracies_, label='Training Accuracy')\n",
    "    plt.plot(epochs_range, val_accuracies_, label='Validation Accuracy')\n",
    "    plt.title('Training and Validation Accuracy')\n",
    "    plt.xlabel('Epochs')\n",
    "    plt.ylabel('Accuracy')\n",
    "    plt.legend()\n",
    "\n",
    "    plt.tight_layout()\n",
    "    plt.show()"
   ],
   "metadata": {
    "collapsed": false,
    "ExecuteTime": {
     "end_time": "2023-11-17T20:27:48.664677Z",
     "start_time": "2023-11-17T20:27:48.561683Z"
    }
   },
   "id": "ebe3216060413b3e"
  },
  {
   "cell_type": "code",
   "execution_count": 72,
   "outputs": [],
   "source": [
    "def train(dataloader, mod, loss_fn, optimizer):\n",
    "    mod.train() # Set the model to training mode\n",
    "    running_loss = 0.0\n",
    "    correct = 0\n",
    "    total = 0\n",
    "\n",
    "    for inputs, labels in dataloader:\n",
    "        inputs, labels = inputs.to(device), labels.to(device)\n",
    "\n",
    "        optimizer.zero_grad() # Zero the gradients to avoid accumulation\n",
    "        outputs = mod(inputs)\n",
    "        loss = loss_fn(outputs, labels)\n",
    "        loss.backward()\n",
    "        optimizer.step()\n",
    "\n",
    "        running_loss += loss.item()\n",
    "\n",
    "        # Calculate training accuracy\n",
    "        _, predicted = torch.max(outputs, 1)\n",
    "        correct += (predicted == labels).sum().item()\n",
    "        total += labels.size(0)\n",
    "\n",
    "    # Calculate average loss and accuracy for the epoch\n",
    "    average_loss = running_loss / len(dataloader)\n",
    "    train_acc = correct / total\n",
    "\n",
    "    return average_loss, train_acc\n",
    "\n",
    "def evaluate(dataloader, mod, loss_fn):\n",
    "    mod.eval()  # Set the model to evaluation mode\n",
    "    val_running_loss = 0.0\n",
    "    correct = 0\n",
    "    total = 0\n",
    "\n",
    "    with torch.no_grad():\n",
    "        for val_inputs, val_labels in dataloader:\n",
    "            val_inputs, val_labels = val_inputs.to(device), val_labels.to(device)\n",
    "\n",
    "            val_outputs = mod(val_inputs)\n",
    "            validation_loss = loss_fn(val_outputs, val_labels)\n",
    "            val_running_loss += validation_loss.item()\n",
    "\n",
    "            _, predicted = torch.max(val_outputs, 1)\n",
    "            correct += (predicted == val_labels).sum().item()\n",
    "            total += val_labels.size(0)\n",
    "\n",
    "    validation_loss = val_running_loss / len(dataloader)\n",
    "    validation_accuracy = correct / total\n",
    "\n",
    "    return validation_loss, validation_accuracy"
   ],
   "metadata": {
    "collapsed": false,
    "ExecuteTime": {
     "end_time": "2023-11-17T20:27:48.814496Z",
     "start_time": "2023-11-17T20:27:48.570420Z"
    }
   },
   "id": "a14f2eee0b403a02"
  },
  {
   "cell_type": "markdown",
   "source": [
    "## 1) Data Preparation"
   ],
   "metadata": {
    "collapsed": false
   },
   "id": "11e1008e48d5318"
  },
  {
   "cell_type": "code",
   "execution_count": 73,
   "outputs": [],
   "source": [
    "from sklearn.model_selection import train_test_split\n",
    "from torchvision import transforms, datasets\n",
    "from torch.utils.data import DataLoader\n",
    "\n",
    "transform = transforms.Compose([\n",
    "    transforms.ToTensor(),\n",
    "    transforms.Normalize((0.5,), (0.5,)) # Subtract 0.5 and divide by 0.5 -> map to [-1, 1]\n",
    "])\n",
    "\n",
    "train_dataset = datasets.MNIST(root='./data', train=True, download=True, transform=transform)\n",
    "\n",
    "train_dataset, val_dataset = train_test_split(\n",
    "    train_dataset,\n",
    "    test_size=0.2,\n",
    ")\n",
    "\n",
    "batch_size = 32\n",
    "train_dataloader = DataLoader(dataset=train_dataset, batch_size=batch_size, shuffle=True)\n",
    "val_dataloader = DataLoader(dataset=val_dataset, batch_size=batch_size, shuffle=True)\n",
    "# test_dataloader = DataLoader(dataset=test_dataset, batch_size=64, shuffle=False)"
   ],
   "metadata": {
    "collapsed": false,
    "ExecuteTime": {
     "end_time": "2023-11-17T20:27:53.039623Z",
     "start_time": "2023-11-17T20:27:48.591722Z"
    }
   },
   "id": "fe69ec38472fb7e5"
  },
  {
   "cell_type": "markdown",
   "source": [
    "## 2) Model"
   ],
   "metadata": {
    "collapsed": false
   },
   "id": "ef482c26bb36296d"
  },
  {
   "cell_type": "code",
   "execution_count": 74,
   "outputs": [],
   "source": [
    "model = ImageNN()\n",
    "learning_rate = 0.01\n",
    "cross_entropy_loss = torch.nn.CrossEntropyLoss()\n",
    "opt = torch.optim.SGD(model.parameters(), lr=learning_rate)\n",
    "device = torch.device(\"cuda\" if torch.cuda.is_available() else \"cpu\")"
   ],
   "metadata": {
    "collapsed": false,
    "ExecuteTime": {
     "end_time": "2023-11-17T20:27:53.067877Z",
     "start_time": "2023-11-17T20:27:53.038363Z"
    }
   },
   "id": "15c73910208ed2d0"
  },
  {
   "cell_type": "code",
   "execution_count": 75,
   "outputs": [
    {
     "data": {
      "text/plain": "<Figure size 1200x500 with 2 Axes>",
      "image/png": "[encoded data removed]"
     },
     "metadata": {},
     "output_type": "display_data"
    }
   ],
   "source": [
    "epochs = 10\n",
    "train_losses, val_losses, train_accuracies, val_accuracies = [], [], [], []\n",
    "for t in range(epochs):\n",
    "    train_loss, train_accuracy = train(train_dataloader, model, cross_entropy_loss, opt)\n",
    "    val_loss, val_accuracy = evaluate(val_dataloader, model, cross_entropy_loss)\n",
    "    \n",
    "    train_losses.append(train_loss)\n",
    "    val_losses.append(val_loss)\n",
    "    train_accuracies.append(train_accuracy)\n",
    "    val_accuracies.append(val_accuracy)\n",
    "\n",
    "plot_metrics(train_losses, val_losses, train_accuracies, val_accuracies)"
   ],
   "metadata": {
    "collapsed": false,
    "ExecuteTime": {
     "end_time": "2023-11-17T20:28:22.700932Z",
     "start_time": "2023-11-17T20:27:53.067793Z"
    }
   },
   "id": "ba680c7f"
  },
  {
   "cell_type": "markdown",
   "source": [
    "## 3) Analysis"
   ],
   "metadata": {
    "collapsed": false
   },
   "id": "eb374df7e6bdf440"
  },
  {
   "cell_type": "code",
   "execution_count": 78,
   "outputs": [
    {
     "name": "stdout",
     "output_type": "stream",
     "text": [
      "Epoch 1:\n",
      "Learning Rate: 0.1, Batch Size: 32\n",
      "Validation Loss: 0.27539739658000567, Validation Accuracy: 93.29166666666666%\n",
      "==================================================\n",
      "\n",
      "\n",
      "Epoch 2:\n",
      "Learning Rate: 0.1, Batch Size: 64\n",
      "Validation Loss: 0.25193871824846914, Validation Accuracy: 93.34166666666667%\n",
      "==================================================\n",
      "\n",
      "\n",
      "Epoch 3:\n",
      "Learning Rate: 0.1, Batch Size: 128\n",
      "Validation Loss: 0.2666352123633648, Validation Accuracy: 93.86666666666666%\n",
      "==================================================\n",
      "\n",
      "\n",
      "Epoch 4:\n",
      "Learning Rate: 0.1, Batch Size: 256\n",
      "Validation Loss: 0.23691216445776322, Validation Accuracy: 94.04166666666667%\n",
      "==================================================\n",
      "\n",
      "\n",
      "Epoch 5:\n",
      "Learning Rate: 0.1, Batch Size: 512\n",
      "Validation Loss: 0.24150516599944483, Validation Accuracy: 93.90833333333333%\n",
      "==================================================\n",
      "\n",
      "\n",
      "Epoch 6:\n",
      "Learning Rate: 0.01, Batch Size: 32\n",
      "Validation Loss: 0.24356091569115718, Validation Accuracy: 92.70833333333334%\n",
      "==================================================\n",
      "\n",
      "\n",
      "Epoch 7:\n",
      "Learning Rate: 0.01, Batch Size: 64\n",
      "Validation Loss: 0.24650824883580208, Validation Accuracy: 92.49166666666667%\n",
      "==================================================\n",
      "\n",
      "\n",
      "Epoch 8:\n",
      "Learning Rate: 0.01, Batch Size: 128\n",
      "Validation Loss: 0.2245528945326805, Validation Accuracy: 93.175%\n",
      "==================================================\n",
      "\n",
      "\n",
      "Epoch 9:\n",
      "Learning Rate: 0.01, Batch Size: 256\n",
      "Validation Loss: 0.2524406455941498, Validation Accuracy: 92.425%\n",
      "==================================================\n",
      "\n",
      "\n",
      "Epoch 10:\n",
      "Learning Rate: 0.01, Batch Size: 512\n",
      "Validation Loss: 0.27501653374483187, Validation Accuracy: 91.725%\n",
      "==================================================\n",
      "\n",
      "\n",
      "Epoch 11:\n",
      "Learning Rate: 0.001, Batch Size: 32\n",
      "Validation Loss: 1.0975428619384766, Validation Accuracy: 72.13333333333334%\n",
      "==================================================\n",
      "\n",
      "\n",
      "Epoch 12:\n",
      "Learning Rate: 0.001, Batch Size: 64\n",
      "Validation Loss: 1.115860051314036, Validation Accuracy: 75.40833333333333%\n",
      "==================================================\n",
      "\n",
      "\n",
      "Epoch 13:\n",
      "Learning Rate: 0.001, Batch Size: 128\n",
      "Validation Loss: 1.13672176917394, Validation Accuracy: 73.21666666666667%\n",
      "==================================================\n",
      "\n",
      "\n",
      "Epoch 14:\n",
      "Learning Rate: 0.001, Batch Size: 256\n",
      "Validation Loss: 1.1694443101882934, Validation Accuracy: 76.01666666666667%\n",
      "==================================================\n",
      "\n",
      "\n",
      "Epoch 15:\n",
      "Learning Rate: 0.001, Batch Size: 512\n",
      "Validation Loss: 1.0841468335787454, Validation Accuracy: 76.03333333333333%\n",
      "==================================================\n",
      "\n",
      "\n",
      "Epoch 16:\n",
      "Learning Rate: 0.0001, Batch Size: 32\n",
      "Validation Loss: 2.1858566977183025, Validation Accuracy: 28.666666666666668%\n",
      "==================================================\n",
      "\n",
      "\n",
      "Epoch 17:\n",
      "Learning Rate: 0.0001, Batch Size: 64\n",
      "Validation Loss: 2.249441464106242, Validation Accuracy: 19.40833333333333%\n",
      "==================================================\n",
      "\n",
      "\n",
      "Epoch 18:\n",
      "Learning Rate: 0.0001, Batch Size: 128\n",
      "Validation Loss: 2.226227288564046, Validation Accuracy: 32.85%\n",
      "==================================================\n",
      "\n",
      "\n",
      "Epoch 19:\n",
      "Learning Rate: 0.0001, Batch Size: 256\n",
      "Validation Loss: 2.2536376647949217, Validation Accuracy: 15.833333333333332%\n",
      "==================================================\n",
      "\n",
      "\n",
      "Epoch 20:\n",
      "Learning Rate: 0.0001, Batch Size: 512\n",
      "Validation Loss: 2.2218288116455076, Validation Accuracy: 33.050000000000004%\n",
      "==================================================\n",
      "\n",
      "\n",
      "Epoch 21:\n",
      "Learning Rate: 1e-05, Batch Size: 32\n",
      "Validation Loss: 2.3065607255299887, Validation Accuracy: 11.625%\n",
      "==================================================\n",
      "\n",
      "\n",
      "Epoch 22:\n",
      "Learning Rate: 1e-05, Batch Size: 64\n",
      "Validation Loss: 2.3123411642710368, Validation Accuracy: 11.774999999999999%\n",
      "==================================================\n",
      "\n",
      "\n",
      "Epoch 23:\n",
      "Learning Rate: 1e-05, Batch Size: 128\n",
      "Validation Loss: 2.304014567057292, Validation Accuracy: 10.108333333333333%\n",
      "==================================================\n",
      "\n",
      "\n",
      "Epoch 24:\n",
      "Learning Rate: 1e-05, Batch Size: 256\n",
      "Validation Loss: 2.3008553721110028, Validation Accuracy: 10.233333333333333%\n",
      "==================================================\n",
      "\n",
      "\n",
      "Epoch 25:\n",
      "Learning Rate: 1e-05, Batch Size: 512\n",
      "Validation Loss: 2.3137902482350667, Validation Accuracy: 12.758333333333333%\n",
      "==================================================\n",
      "\n"
     ]
    }
   ],
   "source": [
    "learning_rates = [0.1, 0.01, 0.001, 0.0001, 0.00001]\n",
    "batch_sizes = [32, 64, 128, 256, 512]\n",
    "\n",
    "results = []\n",
    "\n",
    "for lr in learning_rates:\n",
    "    for batch_size in batch_sizes:\n",
    "        model = ImageNN()\n",
    "        opt = torch.optim.SGD(model.parameters(), lr=lr)\n",
    "        loss_fn = nn.CrossEntropyLoss()\n",
    "        \n",
    "        train(train_dataloader, model, loss_fn, opt)\n",
    "        val_loss, val_accuracy = evaluate(val_dataloader, model, loss_fn)\n",
    "\n",
    "        results.append({\n",
    "            'learning_rate': lr,\n",
    "            'batch_size': batch_size,\n",
    "            'validation_loss': val_loss,\n",
    "            'validation_accuracy': val_accuracy\n",
    "        })\n",
    "\n",
    "# Print or analyze the results\n",
    "for i in range(len(results)):\n",
    "    result = results[i]\n",
    "    print(f\"Epoch {i+1}:\")\n",
    "    print(f\"Learning Rate: {result['learning_rate']}, Batch Size: {result['batch_size']}\")\n",
    "    print(f\"Validation Loss: {result['validation_loss']}, Validation Accuracy: {result['validation_accuracy']*100}%\")\n",
    "    print(\"=\" * 50)\n",
    "    print(\"\\n\")"
   ],
   "metadata": {
    "collapsed": false,
    "ExecuteTime": {
     "end_time": "2023-11-17T20:31:13.476572Z",
     "start_time": "2023-11-17T20:29:46.511455Z"
    }
   },
   "id": "f53414764446e2cb"
  },
  {
   "cell_type": "code",
   "execution_count": null,
   "outputs": [],
   "source": [],
   "metadata": {
    "collapsed": false
   },
   "id": "ed2d97860f0c47f6"
  }
 ],
 "metadata": {
  "kernelspec": {
   "display_name": "Python 3 (ipykernel)",
   "language": "python",
   "name": "python3"
  },
  "language_info": {
   "codemirror_mode": {
    "name": "ipython",
    "version": 3
   },
   "file_extension": ".py",
   "mimetype": "text/x-python",
   "name": "python",
   "nbconvert_exporter": "python",
   "pygments_lexer": "ipython3",
   "version": "3.9.12"
  }
 },
 "nbformat": 4,
 "nbformat_minor": 5
}
