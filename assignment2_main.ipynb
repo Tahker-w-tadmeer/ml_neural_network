{
 "cells": [
  {
   "cell_type": "code",
   "execution_count": 28,
   "id": "ee6b7d45f4e33777",
   "metadata": {
    "ExecuteTime": {
     "end_time": "2023-11-16T20:19:44.900146300Z",
     "start_time": "2023-11-16T20:19:44.841218600Z"
    }
   },
   "outputs": [],
   "source": [
    "from sklearn.model_selection import train_test_split\n",
    "from  torch.utils.data import DataLoader \n",
    "import numpy as np\n",
    "import torch \n",
    "from torch.utils.data import TensorDataset"
   ]
  },
  {
   "cell_type": "code",
   "execution_count": 39,
   "id": "520eeca8",
   "metadata": {
    "ExecuteTime": {
     "end_time": "2023-11-16T20:51:24.624493900Z",
     "start_time": "2023-11-16T20:49:50.414922700Z"
    }
   },
   "outputs": [],
   "source": [
    "train_data_set = np.genfromtxt('train.csv',delimiter=',', dtype=None, encoding='utf-8')\n",
    "test_data_set=np.genfromtxt('test.csv',delimiter=',', dtype=None, encoding='utf-8')"
   ]
  },
  {
   "cell_type": "code",
   "execution_count": 88,
   "id": "ba680c7f",
   "metadata": {
    "ExecuteTime": {
     "end_time": "2023-11-16T22:41:05.902513800Z",
     "start_time": "2023-11-16T22:40:54.923207200Z"
    }
   },
   "outputs": [],
   "source": [
    "y=np.delete(train_data_set[:,0],(0),axis=0)\n",
    "y=y.astype('float') \n",
    "x=np.delete(train_data_set[:,1:],(0),axis=0)\n",
    "x=x.astype('float') \n",
    "x_train,x_val,y_train,y_val=train_test_split(x,y,test_size=0.2,train_size=0.8,shuffle=True) \n",
    "inputs = torch.tensor(x_train, dtype=torch.float)\n",
    "targets = torch.tensor(y_train, dtype=torch.float)\n",
    "ds = TensorDataset(inputs, targets)\n",
    "train_loader = DataLoader(dataset=ds, batch_size=64, shuffle=False)"
   ]
  },
  {
   "cell_type": "code",
   "execution_count": 89,
   "outputs": [],
   "source": [
    "class image_class_NN(torch.nn.Module):\n",
    "    def __init__(self):\n",
    "        super(image_class_NN, self).__init__()\n",
    "        self.flatten = torch.nn.Flatten()\n",
    "        self.neural_network_graph = torch.nn.Sequential(\n",
    "        torch.nn.Linear(28*28,300),\n",
    "        torch.nn.ReLU(),\n",
    "        torch.nn.Linear(300,200),\n",
    "        torch.nn.ReLU(),\n",
    "        torch.nn.Linear(200,10)\n",
    "        )\n",
    "    def forward(self, x):\n",
    "        x = self.flatten(x)\n",
    "        logits = self.neural_network_graph(x)\n",
    "        return logits\n",
    "        "
   ],
   "metadata": {
    "collapsed": false,
    "ExecuteTime": {
     "end_time": "2023-11-16T22:41:06.653308500Z",
     "start_time": "2023-11-16T22:41:06.629690700Z"
    }
   },
   "id": "504c3a93ff64dd50"
  },
  {
   "cell_type": "code",
   "execution_count": 107,
   "outputs": [
    {
     "name": "stdout",
     "output_type": "stream",
     "text": [
      "cuda\n"
     ]
    }
   ],
   "source": [
    "model = image_class_NN()\n",
    "learning_rate = 0.01\n",
    "epochs = 10\n",
    "loss_fn = torch.nn.CrossEntropyLoss()\n",
    "optimizer = torch.optim.SGD(model.parameters(), lr=learning_rate)\n",
    "device = torch.device(\"cuda\" if torch.cuda.is_available() else \"cpu\")\n",
    "print(device)\n",
    "torch.cuda.set_device(0)\n"
   ],
   "metadata": {
    "collapsed": false,
    "ExecuteTime": {
     "end_time": "2023-11-16T22:52:57.405539900Z",
     "start_time": "2023-11-16T22:52:57.385998400Z"
    }
   },
   "id": "15c73910208ed2d0"
  },
  {
   "cell_type": "code",
   "execution_count": 122,
   "outputs": [],
   "source": [
    "from torch.optim.lr_scheduler import ExponentialLR\n",
    "scheduler1 = ExponentialLR(optimizer, gamma=0.9)\n",
    "def train_loop(dataloader, model, loss_fn, optimizer):\n",
    "    size = len(dataloader.dataset)\n",
    "    # Set the model to training mode - important for batch normalization and dropout layers\n",
    "    # Unnecessary in this situation but added for best practices\n",
    "    model.train()\n",
    "    for batch, (x, y) in enumerate(dataloader):\n",
    "        y=y.type(torch.LongTensor)\n",
    "        x=x.to(device)\n",
    "        y=y.to(device)\n",
    "        # Compute prediction and loss\n",
    "        pred = model(x)\n",
    "        loss = loss_fn(pred, y)\n",
    "\n",
    "        # Backpropagation\n",
    "        loss.backward()\n",
    "        optimizer.step()\n",
    "        optimizer.zero_grad()\n",
    "\n",
    "        if batch % 100 == 0:\n",
    "            loss, current = loss.item(), (batch + 1) * len(x)\n",
    "            print(f\"loss: {loss:>7f}  [{current:>5d}/{size:>5d}]\")\n",
    "def test_loop(dataloader, model, loss_fn):\n",
    "    # Set the model to evaluation mode - important for batch normalization and dropout layers\n",
    "    # Unnecessary in this situation but added for best practices\n",
    "    model.eval()\n",
    "    size = len(dataloader.dataset)\n",
    "    num_batches = len(dataloader)\n",
    "    test_loss, correct = 0, 0\n",
    "\n",
    "    # Evaluating the model with torch.no_grad() ensures that no gradients are computed during test mode\n",
    "    # also serves to reduce unnecessary gradient computations and memory usage for tensors with requires_grad=True\n",
    "    with torch.no_grad():\n",
    "        for X, y in dataloader:\n",
    "            y=y.type(torch.LongTensor)\n",
    "            X=X.to(device)\n",
    "            y=y.to(device)            \n",
    "            pred = model(X)\n",
    "            test_loss += loss_fn(pred, y).item()\n",
    "            correct += (pred.argmax(1) == y).type(torch.float32).sum().item()\n",
    "\n",
    "    test_loss /= num_batches\n",
    "    correct /= size\n",
    "    print(f\"validation Error: \\n Accuracy: {(100*correct):>0.1f}%, Avg loss: {test_loss:>8f} \\n\")\n",
    "\n",
    "    \n"
   ],
   "metadata": {
    "collapsed": false,
    "ExecuteTime": {
     "end_time": "2023-11-16T23:05:28.232084300Z",
     "start_time": "2023-11-16T23:05:28.222013700Z"
    }
   },
   "id": "a14f2eee0b403a02"
  },
  {
   "cell_type": "code",
   "execution_count": 123,
   "outputs": [
    {
     "name": "stdout",
     "output_type": "stream",
     "text": [
      "Epoch 1\n",
      "-------------------------------\n",
      "loss: 2.291318  [   64/33600]\n",
      "loss: 2.307866  [ 6464/33600]\n",
      "loss: 2.298510  [12864/33600]\n",
      "loss: 2.304720  [19264/33600]\n",
      "loss: 2.295195  [25664/33600]\n",
      "loss: 2.301915  [32064/33600]\n",
      "validation Error: \n",
      " Accuracy: 11.0%, Avg loss: 2.301597 \n",
      "\n",
      "Epoch 2\n",
      "-------------------------------\n",
      "loss: 2.291318  [   64/33600]\n",
      "loss: 2.307866  [ 6464/33600]\n",
      "loss: 2.298510  [12864/33600]\n",
      "loss: 2.304720  [19264/33600]\n",
      "loss: 2.295195  [25664/33600]\n",
      "loss: 2.301915  [32064/33600]\n",
      "validation Error: \n",
      " Accuracy: 11.0%, Avg loss: 2.301597 \n",
      "\n",
      "Epoch 3\n",
      "-------------------------------\n",
      "loss: 2.291318  [   64/33600]\n",
      "loss: 2.307866  [ 6464/33600]\n",
      "loss: 2.298510  [12864/33600]\n",
      "loss: 2.304720  [19264/33600]\n",
      "loss: 2.295195  [25664/33600]\n",
      "loss: 2.301915  [32064/33600]\n",
      "validation Error: \n",
      " Accuracy: 11.0%, Avg loss: 2.301597 \n",
      "\n",
      "Epoch 4\n",
      "-------------------------------\n",
      "loss: 2.291318  [   64/33600]\n",
      "loss: 2.307866  [ 6464/33600]\n",
      "loss: 2.298510  [12864/33600]\n",
      "loss: 2.304720  [19264/33600]\n",
      "loss: 2.295195  [25664/33600]\n",
      "loss: 2.301916  [32064/33600]\n",
      "validation Error: \n",
      " Accuracy: 11.0%, Avg loss: 2.301597 \n",
      "\n",
      "Epoch 5\n",
      "-------------------------------\n",
      "loss: 2.291318  [   64/33600]\n",
      "loss: 2.307866  [ 6464/33600]\n",
      "loss: 2.298510  [12864/33600]\n",
      "loss: 2.304720  [19264/33600]\n",
      "loss: 2.295195  [25664/33600]\n",
      "loss: 2.301916  [32064/33600]\n",
      "validation Error: \n",
      " Accuracy: 11.0%, Avg loss: 2.301597 \n",
      "\n",
      "Epoch 6\n",
      "-------------------------------\n",
      "loss: 2.291318  [   64/33600]\n",
      "loss: 2.307866  [ 6464/33600]\n",
      "loss: 2.298510  [12864/33600]\n",
      "loss: 2.304720  [19264/33600]\n",
      "loss: 2.295195  [25664/33600]\n",
      "loss: 2.301916  [32064/33600]\n",
      "validation Error: \n",
      " Accuracy: 11.0%, Avg loss: 2.301597 \n",
      "\n",
      "Epoch 7\n",
      "-------------------------------\n",
      "loss: 2.291318  [   64/33600]\n",
      "loss: 2.307866  [ 6464/33600]\n",
      "loss: 2.298510  [12864/33600]\n",
      "loss: 2.304720  [19264/33600]\n",
      "loss: 2.295195  [25664/33600]\n",
      "loss: 2.301916  [32064/33600]\n",
      "validation Error: \n",
      " Accuracy: 11.0%, Avg loss: 2.301597 \n",
      "\n",
      "Epoch 8\n",
      "-------------------------------\n",
      "loss: 2.291318  [   64/33600]\n",
      "loss: 2.307866  [ 6464/33600]\n",
      "loss: 2.298510  [12864/33600]\n",
      "loss: 2.304720  [19264/33600]\n",
      "loss: 2.295195  [25664/33600]\n",
      "loss: 2.301916  [32064/33600]\n",
      "validation Error: \n",
      " Accuracy: 11.0%, Avg loss: 2.301597 \n",
      "\n",
      "Epoch 9\n",
      "-------------------------------\n",
      "loss: 2.291318  [   64/33600]\n",
      "loss: 2.307866  [ 6464/33600]\n",
      "loss: 2.298510  [12864/33600]\n",
      "loss: 2.304720  [19264/33600]\n",
      "loss: 2.295195  [25664/33600]\n",
      "loss: 2.301916  [32064/33600]\n",
      "validation Error: \n",
      " Accuracy: 11.0%, Avg loss: 2.301597 \n",
      "\n",
      "Epoch 10\n",
      "-------------------------------\n",
      "loss: 2.291318  [   64/33600]\n",
      "loss: 2.307866  [ 6464/33600]\n",
      "loss: 2.298510  [12864/33600]\n",
      "loss: 2.304720  [19264/33600]\n",
      "loss: 2.295195  [25664/33600]\n",
      "loss: 2.301916  [32064/33600]\n",
      "validation Error: \n",
      " Accuracy: 11.0%, Avg loss: 2.301597 \n",
      "\n",
      "Done!\n"
     ]
    }
   ],
   "source": [
    "epochs = 10\n",
    "inputs_test = torch.tensor(x_val, dtype=torch.float)\n",
    "targets_test = torch.tensor(y_val, dtype=torch.float)\n",
    "ds = TensorDataset(inputs_test, targets_test)\n",
    "test_dataloader= DataLoader(dataset=ds, batch_size=64, shuffle=False)\n",
    "for t in range(epochs):\n",
    "    print(f\"Epoch {t+1}\\n-------------------------------\")\n",
    "    train_loop(train_loader, model.to(device), loss_fn, optimizer)\n",
    "    test_loop(test_dataloader, model.to(device), loss_fn)\n",
    "print(\"Done!\")"
   ],
   "metadata": {
    "collapsed": false,
    "ExecuteTime": {
     "end_time": "2023-11-16T23:05:45.007713600Z",
     "start_time": "2023-11-16T23:05:28.733606700Z"
    }
   },
   "id": "ec3a1d49e57d9065"
  },
  {
   "cell_type": "code",
   "execution_count": 80,
   "outputs": [],
   "source": [],
   "metadata": {
    "collapsed": false,
    "ExecuteTime": {
     "end_time": "2023-11-16T22:33:12.667666100Z",
     "start_time": "2023-11-16T22:33:12.638903600Z"
    }
   },
   "id": "8bdf0dfe4fbd7a06"
  },
  {
   "cell_type": "code",
   "execution_count": null,
   "outputs": [],
   "source": [],
   "metadata": {
    "collapsed": false
   },
   "id": "ac64dea634c2f7c2"
  }
 ],
 "metadata": {
  "kernelspec": {
   "display_name": "Python 3 (ipykernel)",
   "language": "python",
   "name": "python3"
  },
  "language_info": {
   "codemirror_mode": {
    "name": "ipython",
    "version": 3
   },
   "file_extension": ".py",
   "mimetype": "text/x-python",
   "name": "python",
   "nbconvert_exporter": "python",
   "pygments_lexer": "ipython3",
   "version": "3.9.12"
  }
 },
 "nbformat": 4,
 "nbformat_minor": 5
}
